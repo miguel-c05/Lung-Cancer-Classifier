{
 "cells": [
  {
   "cell_type": "markdown",
   "id": "b3b61805",
   "metadata": {},
   "source": [
    "### CT Pre-Processing\n"
   ]
  },
  {
   "cell_type": "markdown",
   "id": "cf422abc",
   "metadata": {},
   "source": [
    "It is well known that CT images often contain significant noise and artifacts, which can hinder effective feature extraction, neither all CT regions are equally relevant to the diagnosis. To address these challenges, pre-processing techniques are essential for improving image quality. In this study, a sequential pre-processing pipeline was developed to enhance the overall quality of CT scans, consisting of the following steps:\n",
    "\n",
    "- Body Segmentation\n",
    "- Homogenous pixel spacing  \n",
    "- HU widowing  \n",
    "- Normalization  \n",
    "- Filtering  \n",
    "\n",
    "In order to choose the best filtering technique, the Peak Signal-to-Noise Ratio (PSNR) and the Structural Similarity Index (SSIM) were evaluated for each method. These quantitative metrics allowed for an objective comparison of image quality after filtering, ensuring that the selected technique provided optimal noise reduction while preserving important anatomical structures."
   ]
  },
  {
   "cell_type": "markdown",
   "id": "256aa61e",
   "metadata": {},
   "source": [
    "### Body Segmentation\n",
    "\n",
    "In an initial approach, body and lung segmentation were performed on CT slices from the LIDC dataset using intensity-based thresholding in the Hounsfield Unit (HU) domain. Body segmentation was achieved by isolating pixels with attenuation values above −500 HU, corresponding approximately to soft tissues and bones, while excluding air and background regions. The resulting binary mask was refined through morphological operations, including small object removal, binary closing, and hole filling, to eliminate noise and produce a continuous body region. The cleaned body mask was then applied to the CT image to exclude non-anatomical areas and improve the definition of the region of interest.\n",
    "\n",
    "Subsequently, lung segmentation was attempted within the body mask by selecting pixels with intensities between −1000 HU and −400 HU, corresponding to pulmonary parenchyma and air-filled regions. Morphological filters were again applied to reduce artifacts and ensure the connectivity of the lung structures, and the two largest connected components were retained to represent the left and right lungs. However, despite these refinements, the lung segmentation process exhibited instability, as reflected in inconsistent region detection across slices and occasional omission of lung structures, as illustrated in the example below. This instability motivated the use of body segmentation alone for subsequent feature extraction to ensure reproducibility and robustness.\n",
    "\n",
    "!['Good Segmentation'](segmentacao_boa.png)  \n",
    "!['Bad Segmentation'](segmentacao_ma.png)  \n",
    "\n"
   ]
  },
  {
   "cell_type": "markdown",
   "id": "4c88101a",
   "metadata": {},
   "source": [
    "### Homogeneous Pixel Spacing\n",
    "\n",
    "This preprocessing technique ensures that each pixel represents the same physical distance in all directions. In medical imaging, scans from different patients or devices may have varying pixel spacing due to differences in acquisition protocols or equipment. If these differences are not corrected, measurements and features extracted from the images can be inconsistent or misleading. By resampling images to a uniform pixel spacing, we enable accurate quantitative analysis, fair comparison between scans, and reliable application of automated algorithms such as segmentation or radiomics. This step is essential for reproducibility and robustness in medical image processing workflows.\n",
    "\n",
    "As an example, it was validated if CTs across different patient have different Pixel Spacing:\n",
    "\n",
    "| Patient ID   | Pixel Spacing (mm)   |  \n",
    "|--------------|----------------------|  \n",
    "| LIDC-IDRI-0001 | [0.703125, 0.703125] |  \n",
    "| LIDC-IDRI-0002 | [0.681641, 0.681641] |  \n",
    "| LIDC-IDRI-0003 | [0.820312, 0.820312] |  \n",
    "| LIDC-IDRI-0004 | [0.822266, 0.822266] |  \n",
    "| LIDC-IDRI-0005 | [0.664062, 0.664062] | \n",
    "\n",
    "Since different patients have different Pixel Spacing, a function is used to rescale a 2D image so that its pixel spacing becomes isotropic (equal in both directions) by calculating the required zoom factors and applying interpolation with. The new isotropic space is 1x1 (mm).\n",
    "\n"
   ]
  },
  {
   "cell_type": "markdown",
   "id": "1dfa11ad",
   "metadata": {},
   "source": [
    "### HU Windowing\n",
    "\n",
    "Hounsfield Unit (HU) windowing is a technique used to enhance the visualization of specific tissue types in CT images by selecting a relevant range of HU values. Each tissue in the body has a characteristic HU value (e.g., air is approximately -1000 HU). By applying an appropriate HU range, irrelevant structures and noise outside the desired interval are suppressed, improving the contrast and clarity of the anatomical regions of interest, such as lungs. This process facilitates more accurate segmentation and feature extraction in medical image analysis. For this study, a HU range of [-1200, 600] was applied to exclude undesired tissue densities effectively."
   ]
  },
  {
   "cell_type": "markdown",
   "id": "79b87d7d",
   "metadata": {},
   "source": [
    "### Normalization\n",
    "\n",
    "The normalization function rescales the intensity values of each CT image slice to the [0, 1] range by subtracting the minimum value and dividing by the intensity range (maximum minus minimum). This step ensures that all images have a consistent intensity scale, which is essential for robust quantitative analysis and for the application of machine learning algorithms. By normalizing the data, variations due to acquisition parameters or scanner differences are minimized, facilitating fair comparison between images and improving the stability and convergence of subsequent processing steps"
   ]
  },
  {
   "cell_type": "markdown",
   "id": "8606cc99",
   "metadata": {},
   "source": [
    "### Filtering\n",
    "\n",
    "Filtering is a crucial step in CT preprocessing as it helps to reduce noise and enhance the quality of the images, ensuring that important anatomical structures are preserved. CT scans often contain artifacts and random variations in pixel intensity that can obscure critical details, making it challenging to extract meaningful features. By applying appropriate filtering techniques, such as Gaussian, Median, Gabor, Adaptative Non-Local Means (ANLM), Block-Matching and 3D Filterin (BM3D) and Laplacian of Gaussian (LoG) filters, the signal-to-noise ratio is improved, facilitating more accurate segmentation, feature extraction, and analysis. This step is particularly important in medical imaging, where the clarity and precision of the data directly impact diagnostic accuracy and the reliability of automated algorithms."
   ]
  },
  {
   "cell_type": "markdown",
   "id": "9ca4e65a",
   "metadata": {},
   "source": [
    "\n",
    "| Filter          | Pros                                      | Cons                                      |  \n",
    "|------------------|------------------------------------------|-------------------------------------------|  \n",
    "| Gaussian  | Smooths noise effectively, easy to apply | May blur edges and fine details           |  \n",
    "| Median    | Preserves edges while reducing noise     | Computationally expensive for large images|  \n",
    "| Gabor     | Good for edge/texture, preserves structures | Computationally intensive, needs tuning   |  \n",
    "| ANLM | Excellent noise reduction, preserves fine details | Very slow, high memory, needs noise estimate |  \n",
    "| BM3D            | State-of-the-art denoising, preserves details | Computationally intensive, complex to implement |  \n",
    "| LoG | Enhances edges, detects blobs effectively | Sensitive to noise, may over-enhance edges       |  "
   ]
  },
  {
   "cell_type": "markdown",
   "id": "9a9a3025",
   "metadata": {},
   "source": [
    "The PSNR and SSIM equations are as it follows:\n",
    "\n",
    "**PSNR:**  \n",
    "$$\n",
    "PSNR = 10 \\cdot \\log_{10} \\left( \\frac{MAX_I^2}{MSE} \\right)\n",
    "$$  \n",
    "Where $MAX_I$ is the maximum possible pixel value of the image and $MSE$ is the Mean Squared Error.  \n",
    "\n",
    "**SSIM:**  \n",
    "$$\n",
    "SSIM(x, y) = \\frac{(2\\mu_x\\mu_y + C_1)(2\\sigma_{xy} + C_2)}{(\\mu_x^2 + \\mu_y^2 + C_1)(\\sigma_x^2 + \\sigma_y^2 + C_2)}\n",
    "$$  \n",
    "Where:  \n",
    "- $\\mu_x, \\mu_y$: Mean of $x$ and $y$  \n",
    "- $\\sigma_x^2, \\sigma_y^2$: Variance of $x$ and $y$  \n",
    "- $\\sigma_{xy}$: Covariance of $x$ and $y$  \n",
    "- $C_1, C_2$: Stabilization constants to avoid division by zero.  "
   ]
  },
  {
   "cell_type": "markdown",
   "id": "cd0a2ed7",
   "metadata": {},
   "source": [
    "These filters were benchmarked on the first 580 patients of the LIDC dataset. The obtained results are as it follows:"
   ]
  },
  {
   "cell_type": "code",
   "execution_count": 2,
   "id": "028108f4",
   "metadata": {},
   "outputs": [
    {
     "data": {
      "text/html": [
       "<div>\n",
       "<style scoped>\n",
       "    .dataframe tbody tr th:only-of-type {\n",
       "        vertical-align: middle;\n",
       "    }\n",
       "\n",
       "    .dataframe tbody tr th {\n",
       "        vertical-align: top;\n",
       "    }\n",
       "\n",
       "    .dataframe thead tr th {\n",
       "        text-align: left;\n",
       "    }\n",
       "\n",
       "    .dataframe thead tr:last-of-type th {\n",
       "        text-align: right;\n",
       "    }\n",
       "</style>\n",
       "<table border=\"1\" class=\"dataframe\">\n",
       "  <thead>\n",
       "    <tr>\n",
       "      <th></th>\n",
       "      <th colspan=\"3\" halign=\"left\">psnr</th>\n",
       "      <th colspan=\"3\" halign=\"left\">ssim</th>\n",
       "    </tr>\n",
       "    <tr>\n",
       "      <th></th>\n",
       "      <th>mean</th>\n",
       "      <th>median</th>\n",
       "      <th>std</th>\n",
       "      <th>mean</th>\n",
       "      <th>median</th>\n",
       "      <th>std</th>\n",
       "    </tr>\n",
       "    <tr>\n",
       "      <th>filter</th>\n",
       "      <th></th>\n",
       "      <th></th>\n",
       "      <th></th>\n",
       "      <th></th>\n",
       "      <th></th>\n",
       "      <th></th>\n",
       "    </tr>\n",
       "  </thead>\n",
       "  <tbody>\n",
       "    <tr>\n",
       "      <th>ANLM</th>\n",
       "      <td>15.913364</td>\n",
       "      <td>15.729271</td>\n",
       "      <td>2.238481</td>\n",
       "      <td>0.797254</td>\n",
       "      <td>0.813413</td>\n",
       "      <td>0.075295</td>\n",
       "    </tr>\n",
       "    <tr>\n",
       "      <th>BM3D</th>\n",
       "      <td>16.551346</td>\n",
       "      <td>16.413590</td>\n",
       "      <td>2.383350</td>\n",
       "      <td>0.691560</td>\n",
       "      <td>0.704446</td>\n",
       "      <td>0.090737</td>\n",
       "    </tr>\n",
       "    <tr>\n",
       "      <th>Gabor</th>\n",
       "      <td>14.649563</td>\n",
       "      <td>12.470679</td>\n",
       "      <td>6.472202</td>\n",
       "      <td>0.579532</td>\n",
       "      <td>0.553077</td>\n",
       "      <td>0.149944</td>\n",
       "    </tr>\n",
       "    <tr>\n",
       "      <th>Gaussian</th>\n",
       "      <td>16.025595</td>\n",
       "      <td>15.874246</td>\n",
       "      <td>2.246660</td>\n",
       "      <td>0.801635</td>\n",
       "      <td>0.825032</td>\n",
       "      <td>0.073429</td>\n",
       "    </tr>\n",
       "    <tr>\n",
       "      <th>LoG</th>\n",
       "      <td>9.901187</td>\n",
       "      <td>9.592167</td>\n",
       "      <td>2.837987</td>\n",
       "      <td>0.267234</td>\n",
       "      <td>0.236650</td>\n",
       "      <td>0.075229</td>\n",
       "    </tr>\n",
       "    <tr>\n",
       "      <th>Median</th>\n",
       "      <td>15.917302</td>\n",
       "      <td>15.747121</td>\n",
       "      <td>2.248857</td>\n",
       "      <td>0.776680</td>\n",
       "      <td>0.812073</td>\n",
       "      <td>0.107507</td>\n",
       "    </tr>\n",
       "  </tbody>\n",
       "</table>\n",
       "</div>"
      ],
      "text/plain": [
       "               psnr                           ssim                    \n",
       "               mean     median       std      mean    median       std\n",
       "filter                                                                \n",
       "ANLM      15.913364  15.729271  2.238481  0.797254  0.813413  0.075295\n",
       "BM3D      16.551346  16.413590  2.383350  0.691560  0.704446  0.090737\n",
       "Gabor     14.649563  12.470679  6.472202  0.579532  0.553077  0.149944\n",
       "Gaussian  16.025595  15.874246  2.246660  0.801635  0.825032  0.073429\n",
       "LoG        9.901187   9.592167  2.837987  0.267234  0.236650  0.075229\n",
       "Median    15.917302  15.747121  2.248857  0.776680  0.812073  0.107507"
      ]
     },
     "execution_count": 2,
     "metadata": {},
     "output_type": "execute_result"
    }
   ],
   "source": [
    "import pandas as pd\n",
    "\n",
    "df = pd.read_csv('preprocess_benchmark_results.csv')\n",
    "df.drop(columns=['dicom_path'], inplace=True)\n",
    "grouped_stats = df.groupby('filter').agg(['mean', 'median', 'std'])\n",
    "grouped_stats"
   ]
  },
  {
   "cell_type": "markdown",
   "id": "30a7c3a1",
   "metadata": {},
   "source": [
    "\n",
    "![Filtering Image Comparison](comparacao_filtros.png)"
   ]
  },
  {
   "cell_type": "markdown",
   "id": "faab8ade",
   "metadata": {},
   "source": [
    "Among all the tested filters, the Gaussian, Median, and ANLM filters achieved the best overall performance. The Gaussian filter obtained the highest mean SSIM (0.8016), indicating the best structural preservation, while also maintaining a high PSNR (16.03). The Median and NLM filters followed closely with slightly lower PSNR and SSIM values.\n",
    "\n",
    "The BM3D filter, although commonly effective, showed moderate results in this case, with a mean SSIM of 0.6916. The Gabor filter performed poorly, and the LoG filter had the lowest PSNR (9.90) and SSIM (0.267), indicating significant image distortion.\n",
    "\n",
    "Overall, the Gaussian and ANLM filters provided the best balance between noise reduction and image structure preservation. However, due to the risk of texture and contour over-smoothing in Gaussian filtering and the superior adaptability of the ANLM filter, the ANLM filter was selected for this study."
   ]
  },
  {
   "cell_type": "markdown",
   "id": "96050355",
   "metadata": {},
   "source": [
    "### Conclusion\n",
    "\n",
    "The pre-processing pipeline applied in this study follows a sequential approach to enhance CT image quality and ensure consistency across datasets. The steps are as follows:\n",
    "\n",
    "1. **Body Segmentation**: Isolates the anatomical region of interest by removing irrelevant areas such as air and background.\n",
    "2. **Homogeneous Pixel Spacing**: Resamples the images to an isotropic resolution of 1x1 mm, ensuring uniformity in pixel dimensions.\n",
    "3. **HU Windowing**: Applies a Hounsfield Unit range of [-1200, 600] to focus on relevant tissue densities while suppressing noise and irrelevant structures.\n",
    "4. **Normalization**: Rescales intensity values to the [0, 1] range, minimizing variations due to acquisition differences.\n",
    "5. **Filtering**: Utilizes the Adaptive Non-Local Means (ANLM) filter for noise reduction while preserving fine anatomical details.\n",
    "\n",
    "!['Pre-Processing Results'](comparacao_processamento.png)"
   ]
  },
  {
   "cell_type": "markdown",
   "id": "22c1858f",
   "metadata": {},
   "source": []
  }
 ],
 "metadata": {
  "kernelspec": {
   "display_name": "lidc-env",
   "language": "python",
   "name": "python3"
  },
  "language_info": {
   "codemirror_mode": {
    "name": "ipython",
    "version": 3
   },
   "file_extension": ".py",
   "mimetype": "text/x-python",
   "name": "python",
   "nbconvert_exporter": "python",
   "pygments_lexer": "ipython3",
   "version": "3.10.18"
  }
 },
 "nbformat": 4,
 "nbformat_minor": 5
}
